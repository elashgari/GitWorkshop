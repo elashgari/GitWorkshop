{
  "nbformat": 4,
  "nbformat_minor": 0,
  "metadata": {
    "colab": {
      "name": "ColabTest.ipynb",
      "provenance": [],
      "collapsed_sections": [],
      "include_colab_link": true
    },
    "kernelspec": {
      "name": "python3",
      "display_name": "Python 3"
    },
    "accelerator": "GPU"
  },
  "cells": [
    {
      "cell_type": "markdown",
      "metadata": {
        "id": "view-in-github",
        "colab_type": "text"
      },
      "source": [
        "<a href=\"https://colab.research.google.com/github/elashgari/GitWorkshop/blob/main/ColabTest.ipynb\" target=\"_parent\"><img src=\"https://colab.research.google.com/assets/colab-badge.svg\" alt=\"Open In Colab\"/></a>"
      ]
    },
    {
      "cell_type": "code",
      "metadata": {
        "id": "IFy_3n1QEi23"
      },
      "source": [
        "import numpy as np\r\n",
        "from sklearn.metrics import roc_auc_score, precision_score, recall_score, accuracy_score\r\n",
        "import torch\r\n",
        "import torch.nn as nn\r\n",
        "import torch.optim as optim\r\n",
        "from torch.autograd import Variable\r\n",
        "import torch.nn.functional as F\r\n",
        "import torch.optim as optim"
      ],
      "execution_count": 28,
      "outputs": []
    },
    {
      "cell_type": "code",
      "metadata": {
        "id": "wfwz32rNE_lQ",
        "colab": {
          "base_uri": "https://localhost:8080/"
        },
        "outputId": "f639a9b6-d4f7-4b34-a633-25b6b1734405"
      },
      "source": [
        "class EEGNet(nn.Module):\r\n",
        "    def __init__(self):\r\n",
        "        super(EEGNet, self).__init__()\r\n",
        "        self.T = 120\r\n",
        "        \r\n",
        "        # Layer 1\r\n",
        "        self.conv1 = nn.Conv2d(1, 16, (1, 64), padding = 0)\r\n",
        "        self.batchnorm1 = nn.BatchNorm2d(16, False)\r\n",
        "        \r\n",
        "        # Layer 2\r\n",
        "        self.padding1 = nn.ZeroPad2d((16, 17, 0, 1))\r\n",
        "        self.conv2 = nn.Conv2d(1, 4, (2, 32))\r\n",
        "        self.batchnorm2 = nn.BatchNorm2d(4, False)\r\n",
        "        self.pooling2 = nn.MaxPool2d(2, 4)\r\n",
        "        \r\n",
        "        # Layer 3\r\n",
        "        self.padding2 = nn.ZeroPad2d((2, 1, 4, 3))\r\n",
        "        self.conv3 = nn.Conv2d(4, 4, (8, 4))\r\n",
        "        self.batchnorm3 = nn.BatchNorm2d(4, False)\r\n",
        "        self.pooling3 = nn.MaxPool2d((2, 4))\r\n",
        "        \r\n",
        "        # FC Layer\r\n",
        "        # NOTE: This dimension will depend on the number of timestamps per sample in your data.\r\n",
        "        # I have 120 timepoints. \r\n",
        "        self.fc1 = nn.Linear(4*2*7, 1)\r\n",
        "        \r\n",
        "\r\n",
        "    def forward(self, x):\r\n",
        "        # Layer 1\r\n",
        "        x = F.elu(self.conv1(x))\r\n",
        "        x = self.batchnorm1(x)\r\n",
        "        x = F.dropout(x, 0.25)\r\n",
        "        x = x.permute(0, 3, 1, 2)\r\n",
        "        \r\n",
        "        # Layer 2\r\n",
        "        x = self.padding1(x)\r\n",
        "        x = F.elu(self.conv2(x))\r\n",
        "        x = self.batchnorm2(x)\r\n",
        "        x = F.dropout(x, 0.25)\r\n",
        "        x = self.pooling2(x)\r\n",
        "        \r\n",
        "        # Layer 3\r\n",
        "        x = self.padding2(x)\r\n",
        "        x = F.elu(self.conv3(x))\r\n",
        "        x = self.batchnorm3(x)\r\n",
        "        x = F.dropout(x, 0.25)\r\n",
        "        x = self.pooling3(x)\r\n",
        "        \r\n",
        "        # FC Layer\r\n",
        "        x = x.view(-1, 4*2*7)\r\n",
        "        x = F.sigmoid(self.fc1(x))\r\n",
        "        return x\r\n",
        "\r\n",
        "\r\n",
        "net = EEGNet().cuda(0)\r\n",
        "print (net.forward(Variable(torch.Tensor(np.random.rand(1, 1, 120, 64)).cuda(0))))\r\n",
        "criterion = nn.BCELoss()\r\n",
        "optimizer = optim.Adam(net.parameters())"
      ],
      "execution_count": 29,
      "outputs": [
        {
          "output_type": "stream",
          "text": [
            "tensor([[0.4438]], device='cuda:0', grad_fn=<SigmoidBackward>)\n"
          ],
          "name": "stdout"
        },
        {
          "output_type": "stream",
          "text": [
            "/usr/local/lib/python3.6/dist-packages/torch/nn/functional.py:1639: UserWarning: nn.functional.sigmoid is deprecated. Use torch.sigmoid instead.\n",
            "  warnings.warn(\"nn.functional.sigmoid is deprecated. Use torch.sigmoid instead.\")\n"
          ],
          "name": "stderr"
        }
      ]
    },
    {
      "cell_type": "markdown",
      "metadata": {
        "id": "AGve2BrjZuYH"
      },
      "source": [
        "# New Section"
      ]
    },
    {
      "cell_type": "code",
      "metadata": {
        "id": "zXZ3n0PlT1KB"
      },
      "source": [
        "def evaluate(model, X, Y, params = [\"acc\"]):\r\n",
        "    results = []\r\n",
        "    batch_size = 100\r\n",
        "    \r\n",
        "    predicted = []\r\n",
        "    \r\n",
        "    for i in range(int(len(X)/batch_size)):\r\n",
        "        s = i*batch_size\r\n",
        "        e = i*batch_size+batch_size\r\n",
        "        \r\n",
        "        inputs = Variable(torch.from_numpy(X[s:e]).cuda(0))\r\n",
        "        pred = model(inputs)\r\n",
        "        \r\n",
        "        predicted.append(pred.data.cpu().numpy())\r\n",
        "        \r\n",
        "        \r\n",
        "    inputs = Variable(torch.from_numpy(X).cuda(0))\r\n",
        "    predicted = model(inputs)\r\n",
        "    \r\n",
        "    predicted = predicted.data.cpu().numpy()\r\n",
        "    \r\n",
        "    for param in params:\r\n",
        "        if param == 'acc':\r\n",
        "            results.append(accuracy_score(Y, np.round(predicted)))\r\n",
        "        if param == \"auc\":\r\n",
        "            results.append(roc_auc_score(Y, predicted))\r\n",
        "        if param == \"recall\":\r\n",
        "            results.append(recall_score(Y, np.round(predicted)))\r\n",
        "        if param == \"precision\":\r\n",
        "            results.append(precision_score(Y, np.round(predicted)))\r\n",
        "        if param == \"fmeasure\":\r\n",
        "            precision = precision_score(Y, np.round(predicted))\r\n",
        "            recall = recall_score(Y, np.round(predicted))\r\n",
        "            results.append(2*precision*recall/ (precision+recall))\r\n",
        "    return results"
      ],
      "execution_count": 30,
      "outputs": []
    },
    {
      "cell_type": "code",
      "metadata": {
        "id": "6yHVhtF2UIzQ"
      },
      "source": [
        "X_train = np.random.rand(100, 1, 120, 64).astype('float32') # np.random.rand generates between [0, 1) \r\n",
        "y_train = np.round(np.random.rand(100).astype('float32')) # binary data, so we round it to 0 or 1.\r\n",
        "\r\n",
        "X_val = np.random.rand(100, 1, 120, 64).astype('float32')\r\n",
        "y_val = np.round(np.random.rand(100).astype('float32'))\r\n",
        "\r\n",
        "X_test = np.random.rand(100, 1, 120, 64).astype('float32')\r\n",
        "y_test = np.round(np.random.rand(100).astype('float32'))"
      ],
      "execution_count": 31,
      "outputs": []
    },
    {
      "cell_type": "code",
      "metadata": {
        "colab": {
          "base_uri": "https://localhost:8080/"
        },
        "id": "jupv8-TIUUdQ",
        "outputId": "ffd5217b-16aa-4078-a468-5672c5633661"
      },
      "source": [
        "batch_size = 32\r\n",
        "\r\n",
        "for epoch in range(10):  # loop over the dataset multiple times\r\n",
        "    print(\"\\nEpoch \", epoch) \r\n",
        "    \r\n",
        "    running_loss = 0.0\r\n",
        "    for i in range(int(len(X_train)/batch_size-1)):\r\n",
        "        s = i*batch_size\r\n",
        "        e = i*batch_size+batch_size\r\n",
        "        \r\n",
        "        inputs = torch.from_numpy(X_train[s:e])\r\n",
        "        labels = torch.FloatTensor(np.array([y_train[s:e]]).T*1.0)\r\n",
        "        \r\n",
        "        # wrap them in Variable\r\n",
        "        inputs, labels = Variable(inputs.cuda(0)), Variable(labels.cuda(0))\r\n",
        "\r\n",
        "        # zero the parameter gradients\r\n",
        "        optimizer.zero_grad()\r\n",
        "\r\n",
        "        # forward + backward + optimize\r\n",
        "        outputs = net(inputs)\r\n",
        "        loss = criterion(outputs, labels)\r\n",
        "        loss.backward()\r\n",
        "        \r\n",
        "        \r\n",
        "        optimizer.step()\r\n",
        "        \r\n",
        "        running_loss += loss.data\r\n",
        "    \r\n",
        "    # Validation accuracy\r\n",
        "    params = [\"acc\", \"auc\", \"fmeasure\"]\r\n",
        "    print (params)\r\n",
        "    print (\"Training Loss \", running_loss)\r\n",
        "    print (\"Train - \", evaluate(net, X_train, y_train, params))\r\n",
        "    print (\"Validation - \", evaluate(net, X_val, y_val, params))\r\n",
        "    print (\"Test - \", evaluate(net, X_test, y_test, params))"
      ],
      "execution_count": 32,
      "outputs": [
        {
          "output_type": "stream",
          "text": [
            "\n",
            "Epoch  0\n",
            "['acc', 'auc', 'fmeasure']\n",
            "Training Loss  tensor(1.5048, device='cuda:0')\n",
            "Train -  [0.47, 0.4603174603174603, 0.5225225225225225]\n",
            "Validation -  [0.45, 0.4723557692307692, 0.4761904761904762]\n"
          ],
          "name": "stdout"
        },
        {
          "output_type": "stream",
          "text": [
            "/usr/local/lib/python3.6/dist-packages/torch/nn/functional.py:1639: UserWarning: nn.functional.sigmoid is deprecated. Use torch.sigmoid instead.\n",
            "  warnings.warn(\"nn.functional.sigmoid is deprecated. Use torch.sigmoid instead.\")\n",
            "/usr/local/lib/python3.6/dist-packages/torch/nn/functional.py:1639: UserWarning: nn.functional.sigmoid is deprecated. Use torch.sigmoid instead.\n",
            "  warnings.warn(\"nn.functional.sigmoid is deprecated. Use torch.sigmoid instead.\")\n",
            "/usr/local/lib/python3.6/dist-packages/torch/nn/functional.py:1639: UserWarning: nn.functional.sigmoid is deprecated. Use torch.sigmoid instead.\n",
            "  warnings.warn(\"nn.functional.sigmoid is deprecated. Use torch.sigmoid instead.\")\n"
          ],
          "name": "stderr"
        },
        {
          "output_type": "stream",
          "text": [
            "Test -  [0.38, 0.3543019480519481, 0.39215686274509803]\n",
            "\n",
            "Epoch  1\n",
            "['acc', 'auc', 'fmeasure']\n",
            "Training Loss  tensor(1.4468, device='cuda:0')\n",
            "Train -  [0.63, 0.634920634920635, 0.7086614173228346]\n",
            "Validation -  [0.49, 0.500801282051282, 0.5641025641025641]\n",
            "Test -  [0.54, 0.5113636363636364, 0.640625]\n",
            "\n",
            "Epoch  2\n",
            "['acc', 'auc', 'fmeasure']\n",
            "Training Loss  tensor(1.2978, device='cuda:0')\n"
          ],
          "name": "stdout"
        },
        {
          "output_type": "stream",
          "text": [
            "/usr/local/lib/python3.6/dist-packages/torch/nn/functional.py:1639: UserWarning: nn.functional.sigmoid is deprecated. Use torch.sigmoid instead.\n",
            "  warnings.warn(\"nn.functional.sigmoid is deprecated. Use torch.sigmoid instead.\")\n",
            "/usr/local/lib/python3.6/dist-packages/torch/nn/functional.py:1639: UserWarning: nn.functional.sigmoid is deprecated. Use torch.sigmoid instead.\n",
            "  warnings.warn(\"nn.functional.sigmoid is deprecated. Use torch.sigmoid instead.\")\n",
            "/usr/local/lib/python3.6/dist-packages/torch/nn/functional.py:1639: UserWarning: nn.functional.sigmoid is deprecated. Use torch.sigmoid instead.\n",
            "  warnings.warn(\"nn.functional.sigmoid is deprecated. Use torch.sigmoid instead.\")\n",
            "/usr/local/lib/python3.6/dist-packages/torch/nn/functional.py:1639: UserWarning: nn.functional.sigmoid is deprecated. Use torch.sigmoid instead.\n",
            "  warnings.warn(\"nn.functional.sigmoid is deprecated. Use torch.sigmoid instead.\")\n"
          ],
          "name": "stderr"
        },
        {
          "output_type": "stream",
          "text": [
            "Train -  [0.57, 0.567996567996568, 0.7189542483660131]\n",
            "Validation -  [0.56, 0.5344551282051282, 0.6764705882352942]\n",
            "Test -  [0.52, 0.42857142857142855, 0.6712328767123288]\n",
            "\n",
            "Epoch  3\n",
            "['acc', 'auc', 'fmeasure']\n",
            "Training Loss  tensor(1.2719, device='cuda:0')\n",
            "Train -  [0.62, 0.5238095238095237, 0.7564102564102564]\n",
            "Validation -  [0.54, 0.48517628205128205, 0.6714285714285714]\n",
            "Test -  [0.51, 0.46185064935064934, 0.6666666666666667]\n",
            "\n",
            "Epoch  4\n",
            "['acc', 'auc', 'fmeasure']\n",
            "Training Loss  tensor(1.2933, device='cuda:0')\n"
          ],
          "name": "stdout"
        },
        {
          "output_type": "stream",
          "text": [
            "/usr/local/lib/python3.6/dist-packages/torch/nn/functional.py:1639: UserWarning: nn.functional.sigmoid is deprecated. Use torch.sigmoid instead.\n",
            "  warnings.warn(\"nn.functional.sigmoid is deprecated. Use torch.sigmoid instead.\")\n",
            "/usr/local/lib/python3.6/dist-packages/torch/nn/functional.py:1639: UserWarning: nn.functional.sigmoid is deprecated. Use torch.sigmoid instead.\n",
            "  warnings.warn(\"nn.functional.sigmoid is deprecated. Use torch.sigmoid instead.\")\n",
            "/usr/local/lib/python3.6/dist-packages/torch/nn/functional.py:1639: UserWarning: nn.functional.sigmoid is deprecated. Use torch.sigmoid instead.\n",
            "  warnings.warn(\"nn.functional.sigmoid is deprecated. Use torch.sigmoid instead.\")\n",
            "/usr/local/lib/python3.6/dist-packages/torch/nn/functional.py:1639: UserWarning: nn.functional.sigmoid is deprecated. Use torch.sigmoid instead.\n",
            "  warnings.warn(\"nn.functional.sigmoid is deprecated. Use torch.sigmoid instead.\")\n",
            "/usr/local/lib/python3.6/dist-packages/torch/nn/functional.py:1639: UserWarning: nn.functional.sigmoid is deprecated. Use torch.sigmoid instead.\n",
            "  warnings.warn(\"nn.functional.sigmoid is deprecated. Use torch.sigmoid instead.\")\n",
            "/usr/local/lib/python3.6/dist-packages/torch/nn/functional.py:1639: UserWarning: nn.functional.sigmoid is deprecated. Use torch.sigmoid instead.\n",
            "  warnings.warn(\"nn.functional.sigmoid is deprecated. Use torch.sigmoid instead.\")\n"
          ],
          "name": "stderr"
        },
        {
          "output_type": "stream",
          "text": [
            "Train -  [0.61, 0.4877734877734878, 0.7547169811320755]\n",
            "Validation -  [0.49, 0.5544871794871795, 0.6577181208053691]\n",
            "Test -  [0.56, 0.5280032467532467, 0.7142857142857143]\n",
            "\n",
            "Epoch  5\n",
            "['acc', 'auc', 'fmeasure']\n",
            "Training Loss  tensor(1.2358, device='cuda:0')\n",
            "Train -  [0.63, 0.5585585585585584, 0.7701863354037266]\n",
            "Validation -  [0.5, 0.4871794871794872, 0.6621621621621621]\n",
            "Test -  [0.56, 0.5048701298701299, 0.7142857142857143]\n",
            "\n",
            "Epoch  6\n",
            "['acc', 'auc', 'fmeasure']\n",
            "Training Loss  tensor(1.3436, device='cuda:0')\n"
          ],
          "name": "stdout"
        },
        {
          "output_type": "stream",
          "text": [
            "/usr/local/lib/python3.6/dist-packages/torch/nn/functional.py:1639: UserWarning: nn.functional.sigmoid is deprecated. Use torch.sigmoid instead.\n",
            "  warnings.warn(\"nn.functional.sigmoid is deprecated. Use torch.sigmoid instead.\")\n",
            "/usr/local/lib/python3.6/dist-packages/torch/nn/functional.py:1639: UserWarning: nn.functional.sigmoid is deprecated. Use torch.sigmoid instead.\n",
            "  warnings.warn(\"nn.functional.sigmoid is deprecated. Use torch.sigmoid instead.\")\n",
            "/usr/local/lib/python3.6/dist-packages/torch/nn/functional.py:1639: UserWarning: nn.functional.sigmoid is deprecated. Use torch.sigmoid instead.\n",
            "  warnings.warn(\"nn.functional.sigmoid is deprecated. Use torch.sigmoid instead.\")\n",
            "/usr/local/lib/python3.6/dist-packages/torch/nn/functional.py:1639: UserWarning: nn.functional.sigmoid is deprecated. Use torch.sigmoid instead.\n",
            "  warnings.warn(\"nn.functional.sigmoid is deprecated. Use torch.sigmoid instead.\")\n",
            "/usr/local/lib/python3.6/dist-packages/torch/nn/functional.py:1639: UserWarning: nn.functional.sigmoid is deprecated. Use torch.sigmoid instead.\n",
            "  warnings.warn(\"nn.functional.sigmoid is deprecated. Use torch.sigmoid instead.\")\n",
            "/usr/local/lib/python3.6/dist-packages/torch/nn/functional.py:1639: UserWarning: nn.functional.sigmoid is deprecated. Use torch.sigmoid instead.\n",
            "  warnings.warn(\"nn.functional.sigmoid is deprecated. Use torch.sigmoid instead.\")\n"
          ],
          "name": "stderr"
        },
        {
          "output_type": "stream",
          "text": [
            "Train -  [0.64, 0.5954525954525954, 0.7749999999999998]\n",
            "Validation -  [0.53, 0.4431089743589744, 0.6845637583892616]\n",
            "Test -  [0.56, 0.47524350649350655, 0.7105263157894737]\n",
            "\n",
            "Epoch  7\n",
            "['acc', 'auc', 'fmeasure']\n",
            "Training Loss  tensor(1.2718, device='cuda:0')\n",
            "Train -  [0.62, 0.5474045474045474, 0.7624999999999998]\n",
            "Validation -  [0.53, 0.5396634615384615, 0.6845637583892616]\n",
            "Test -  [0.54, 0.44034090909090906, 0.7012987012987012]\n",
            "\n",
            "Epoch  8\n",
            "['acc', 'auc', 'fmeasure']\n",
            "Training Loss  tensor(1.2421, device='cuda:0')\n"
          ],
          "name": "stdout"
        },
        {
          "output_type": "stream",
          "text": [
            "/usr/local/lib/python3.6/dist-packages/torch/nn/functional.py:1639: UserWarning: nn.functional.sigmoid is deprecated. Use torch.sigmoid instead.\n",
            "  warnings.warn(\"nn.functional.sigmoid is deprecated. Use torch.sigmoid instead.\")\n",
            "/usr/local/lib/python3.6/dist-packages/torch/nn/functional.py:1639: UserWarning: nn.functional.sigmoid is deprecated. Use torch.sigmoid instead.\n",
            "  warnings.warn(\"nn.functional.sigmoid is deprecated. Use torch.sigmoid instead.\")\n",
            "/usr/local/lib/python3.6/dist-packages/torch/nn/functional.py:1639: UserWarning: nn.functional.sigmoid is deprecated. Use torch.sigmoid instead.\n",
            "  warnings.warn(\"nn.functional.sigmoid is deprecated. Use torch.sigmoid instead.\")\n",
            "/usr/local/lib/python3.6/dist-packages/torch/nn/functional.py:1639: UserWarning: nn.functional.sigmoid is deprecated. Use torch.sigmoid instead.\n",
            "  warnings.warn(\"nn.functional.sigmoid is deprecated. Use torch.sigmoid instead.\")\n",
            "/usr/local/lib/python3.6/dist-packages/torch/nn/functional.py:1639: UserWarning: nn.functional.sigmoid is deprecated. Use torch.sigmoid instead.\n",
            "  warnings.warn(\"nn.functional.sigmoid is deprecated. Use torch.sigmoid instead.\")\n",
            "/usr/local/lib/python3.6/dist-packages/torch/nn/functional.py:1639: UserWarning: nn.functional.sigmoid is deprecated. Use torch.sigmoid instead.\n",
            "  warnings.warn(\"nn.functional.sigmoid is deprecated. Use torch.sigmoid instead.\")\n"
          ],
          "name": "stderr"
        },
        {
          "output_type": "stream",
          "text": [
            "Train -  [0.62, 0.6237666237666237, 0.7624999999999998]\n",
            "Validation -  [0.53, 0.45072115384615385, 0.6845637583892616]\n",
            "Test -  [0.57, 0.4464285714285714, 0.7225806451612903]\n",
            "\n",
            "Epoch  9\n",
            "['acc', 'auc', 'fmeasure']\n",
            "Training Loss  tensor(1.2919, device='cuda:0')\n",
            "Train -  [0.65, 0.6808236808236808, 0.7770700636942676]\n",
            "Validation -  [0.5, 0.4419070512820513, 0.6621621621621621]\n",
            "Test -  [0.55, 0.4955357142857143, 0.7019867549668873]\n"
          ],
          "name": "stdout"
        },
        {
          "output_type": "stream",
          "text": [
            "/usr/local/lib/python3.6/dist-packages/torch/nn/functional.py:1639: UserWarning: nn.functional.sigmoid is deprecated. Use torch.sigmoid instead.\n",
            "  warnings.warn(\"nn.functional.sigmoid is deprecated. Use torch.sigmoid instead.\")\n",
            "/usr/local/lib/python3.6/dist-packages/torch/nn/functional.py:1639: UserWarning: nn.functional.sigmoid is deprecated. Use torch.sigmoid instead.\n",
            "  warnings.warn(\"nn.functional.sigmoid is deprecated. Use torch.sigmoid instead.\")\n",
            "/usr/local/lib/python3.6/dist-packages/torch/nn/functional.py:1639: UserWarning: nn.functional.sigmoid is deprecated. Use torch.sigmoid instead.\n",
            "  warnings.warn(\"nn.functional.sigmoid is deprecated. Use torch.sigmoid instead.\")\n",
            "/usr/local/lib/python3.6/dist-packages/torch/nn/functional.py:1639: UserWarning: nn.functional.sigmoid is deprecated. Use torch.sigmoid instead.\n",
            "  warnings.warn(\"nn.functional.sigmoid is deprecated. Use torch.sigmoid instead.\")\n",
            "/usr/local/lib/python3.6/dist-packages/torch/nn/functional.py:1639: UserWarning: nn.functional.sigmoid is deprecated. Use torch.sigmoid instead.\n",
            "  warnings.warn(\"nn.functional.sigmoid is deprecated. Use torch.sigmoid instead.\")\n"
          ],
          "name": "stderr"
        }
      ]
    },
    {
      "cell_type": "code",
      "metadata": {
        "colab": {
          "base_uri": "https://localhost:8080/"
        },
        "id": "QdOFRQ7EWTPc",
        "outputId": "7690b61d-11e0-44ce-a7dd-8804a29113a8"
      },
      "source": [
        "loss = criterion(outputs, labels)\r\n",
        "loss.data"
      ],
      "execution_count": 33,
      "outputs": [
        {
          "output_type": "execute_result",
          "data": {
            "text/plain": [
              "tensor(0.6508, device='cuda:0')"
            ]
          },
          "metadata": {
            "tags": []
          },
          "execution_count": 33
        }
      ]
    },
    {
      "cell_type": "code",
      "metadata": {
        "id": "YQIA7WNbUXvA",
        "colab": {
          "base_uri": "https://localhost:8080/"
        },
        "outputId": "e223c839-40a0-470a-cae6-debce2e30487"
      },
      "source": [
        "X_train = np.random.rand(100, 2, 120, 64)\r\n",
        "X_train"
      ],
      "execution_count": 37,
      "outputs": [
        {
          "output_type": "execute_result",
          "data": {
            "text/plain": [
              "array([[[[0.54084668, 0.02908895, 0.08193569, ..., 0.53800747,\n",
              "          0.65314382, 0.31904082],\n",
              "         [0.0429058 , 0.14435498, 0.94431077, ..., 0.40253282,\n",
              "          0.68112927, 0.88395857],\n",
              "         [0.56074326, 0.62830584, 0.37866157, ..., 0.76467846,\n",
              "          0.0658255 , 0.6710193 ],\n",
              "         ...,\n",
              "         [0.80206648, 0.24561735, 0.40302147, ..., 0.23207381,\n",
              "          0.14734844, 0.59851642],\n",
              "         [0.39635909, 0.89477995, 0.10426948, ..., 0.70291704,\n",
              "          0.93311277, 0.04682009],\n",
              "         [0.2537146 , 0.77519408, 0.19242534, ..., 0.93905103,\n",
              "          0.22697365, 0.6540258 ]],\n",
              "\n",
              "        [[0.31355095, 0.85933486, 0.23509972, ..., 0.43501711,\n",
              "          0.6343439 , 0.00989171],\n",
              "         [0.7513124 , 0.16547649, 0.65969597, ..., 0.27150208,\n",
              "          0.38003116, 0.77291575],\n",
              "         [0.59119643, 0.37993931, 0.62411808, ..., 0.07862774,\n",
              "          0.00624875, 0.89962599],\n",
              "         ...,\n",
              "         [0.65819768, 0.77696151, 0.41603467, ..., 0.15014865,\n",
              "          0.5148474 , 0.31790268],\n",
              "         [0.37993078, 0.29277368, 0.89446956, ..., 0.84474928,\n",
              "          0.13070492, 0.88921271],\n",
              "         [0.68273591, 0.33361315, 0.3154105 , ..., 0.19669075,\n",
              "          0.13535105, 0.3643785 ]]],\n",
              "\n",
              "\n",
              "       [[[0.37827142, 0.79612104, 0.73405586, ..., 0.78318968,\n",
              "          0.045405  , 0.45657743],\n",
              "         [0.96780227, 0.28476543, 0.71837982, ..., 0.09474974,\n",
              "          0.27156446, 0.81135502],\n",
              "         [0.77792265, 0.17058767, 0.76733776, ..., 0.40096703,\n",
              "          0.21185727, 0.29704306],\n",
              "         ...,\n",
              "         [0.52938129, 0.6561285 , 0.48556055, ..., 0.98759695,\n",
              "          0.2550615 , 0.89399582],\n",
              "         [0.09420693, 0.96869   , 0.58590949, ..., 0.46716796,\n",
              "          0.2798897 , 0.80677436],\n",
              "         [0.54976438, 0.53413261, 0.71343894, ..., 0.05528537,\n",
              "          0.85080213, 0.12503913]],\n",
              "\n",
              "        [[0.60288025, 0.89607366, 0.38113878, ..., 0.78747705,\n",
              "          0.39676976, 0.17606202],\n",
              "         [0.55524509, 0.92620703, 0.92459551, ..., 0.92355698,\n",
              "          0.33155501, 0.31736836],\n",
              "         [0.60129252, 0.10784078, 0.71386018, ..., 0.59374973,\n",
              "          0.5098949 , 0.82142765],\n",
              "         ...,\n",
              "         [0.54660385, 0.72584248, 0.00963478, ..., 0.81887638,\n",
              "          0.07021299, 0.67121495],\n",
              "         [0.68596288, 0.71024515, 0.77490972, ..., 0.61138501,\n",
              "          0.71015449, 0.20327439],\n",
              "         [0.61437336, 0.07271439, 0.86729817, ..., 0.76903479,\n",
              "          0.59353638, 0.53014623]]],\n",
              "\n",
              "\n",
              "       [[[0.36709669, 0.35625201, 0.74469252, ..., 0.97170031,\n",
              "          0.4452006 , 0.72306476],\n",
              "         [0.18721896, 0.44502792, 0.07037933, ..., 0.58372692,\n",
              "          0.97122157, 0.26978923],\n",
              "         [0.06533069, 0.94919792, 0.24835553, ..., 0.40493785,\n",
              "          0.28063998, 0.83721813],\n",
              "         ...,\n",
              "         [0.38021674, 0.00765369, 0.15743898, ..., 0.91225115,\n",
              "          0.15594384, 0.02162597],\n",
              "         [0.11591415, 0.56439499, 0.27075629, ..., 0.63025901,\n",
              "          0.05822759, 0.01502236],\n",
              "         [0.95978603, 0.03807621, 0.35039015, ..., 0.11980876,\n",
              "          0.72127891, 0.2864155 ]],\n",
              "\n",
              "        [[0.73181864, 0.86893048, 0.03859238, ..., 0.93258963,\n",
              "          0.80355849, 0.20545908],\n",
              "         [0.19422584, 0.56365827, 0.4593941 , ..., 0.24266297,\n",
              "          0.62460164, 0.7849783 ],\n",
              "         [0.7381455 , 0.07891273, 0.77107183, ..., 0.23348564,\n",
              "          0.19018333, 0.21324727],\n",
              "         ...,\n",
              "         [0.85470051, 0.50843238, 0.58660326, ..., 0.65313955,\n",
              "          0.4402558 , 0.190319  ],\n",
              "         [0.87863831, 0.30199487, 0.10395169, ..., 0.39745325,\n",
              "          0.01301589, 0.08424089],\n",
              "         [0.61600481, 0.38887201, 0.69714183, ..., 0.2034451 ,\n",
              "          0.31032586, 0.69880315]]],\n",
              "\n",
              "\n",
              "       ...,\n",
              "\n",
              "\n",
              "       [[[0.4726342 , 0.54704891, 0.64235312, ..., 0.86829625,\n",
              "          0.04189178, 0.37856334],\n",
              "         [0.16514468, 0.95730315, 0.92882059, ..., 0.12099867,\n",
              "          0.23070789, 0.1597    ],\n",
              "         [0.64772064, 0.51930447, 0.7217076 , ..., 0.36231054,\n",
              "          0.5464385 , 0.54912916],\n",
              "         ...,\n",
              "         [0.79966992, 0.32580193, 0.21633162, ..., 0.50668123,\n",
              "          0.37965232, 0.72435095],\n",
              "         [0.3831803 , 0.8292958 , 0.45566684, ..., 0.9644044 ,\n",
              "          0.6081127 , 0.35305163],\n",
              "         [0.87497807, 0.12066504, 0.00554571, ..., 0.22668822,\n",
              "          0.87153529, 0.80880469]],\n",
              "\n",
              "        [[0.26679755, 0.43842389, 0.42103685, ..., 0.31216955,\n",
              "          0.53057518, 0.7089584 ],\n",
              "         [0.50635734, 0.43454358, 0.38486249, ..., 0.49182715,\n",
              "          0.31056178, 0.25666126],\n",
              "         [0.9704682 , 0.53328008, 0.63120183, ..., 0.77882151,\n",
              "          0.44251623, 0.91152113],\n",
              "         ...,\n",
              "         [0.87636795, 0.32588387, 0.40616959, ..., 0.19945348,\n",
              "          0.48851709, 0.99100873],\n",
              "         [0.49747168, 0.28153712, 0.9932518 , ..., 0.36766959,\n",
              "          0.87636659, 0.78074759],\n",
              "         [0.65260383, 0.51357574, 0.77097511, ..., 0.97625234,\n",
              "          0.70040921, 0.15740704]]],\n",
              "\n",
              "\n",
              "       [[[0.49552424, 0.40197226, 0.706257  , ..., 0.37521375,\n",
              "          0.14537842, 0.01893905],\n",
              "         [0.79004837, 0.47204453, 0.95931713, ..., 0.85894715,\n",
              "          0.72018327, 0.8689942 ],\n",
              "         [0.29649764, 0.50293473, 0.65542431, ..., 0.76382514,\n",
              "          0.84825216, 0.27880496],\n",
              "         ...,\n",
              "         [0.47692262, 0.26237909, 0.53493345, ..., 0.14784591,\n",
              "          0.11146798, 0.80615601],\n",
              "         [0.9499707 , 0.32705816, 0.28212858, ..., 0.92498357,\n",
              "          0.07243008, 0.89829686],\n",
              "         [0.2966581 , 0.20069891, 0.28700855, ..., 0.81898085,\n",
              "          0.00192422, 0.94328853]],\n",
              "\n",
              "        [[0.19115672, 0.86484052, 0.43834367, ..., 0.19470762,\n",
              "          0.45783103, 0.50444758],\n",
              "         [0.45520548, 0.99729433, 0.89837186, ..., 0.04156271,\n",
              "          0.83802777, 0.98323309],\n",
              "         [0.39566224, 0.35657182, 0.83774255, ..., 0.77531986,\n",
              "          0.68717814, 0.48565374],\n",
              "         ...,\n",
              "         [0.39531669, 0.27608726, 0.1411297 , ..., 0.3546861 ,\n",
              "          0.88522701, 0.02612429],\n",
              "         [0.37428261, 0.45605605, 0.36618304, ..., 0.34575767,\n",
              "          0.36669945, 0.57544899],\n",
              "         [0.03960297, 0.88700799, 0.83894171, ..., 0.01685591,\n",
              "          0.99220548, 0.76734728]]],\n",
              "\n",
              "\n",
              "       [[[0.71444882, 0.71881489, 0.06993084, ..., 0.0840963 ,\n",
              "          0.01907367, 0.90721546],\n",
              "         [0.88692673, 0.68532724, 0.2478778 , ..., 0.78124469,\n",
              "          0.85240035, 0.55584285],\n",
              "         [0.54898973, 0.50385492, 0.54559539, ..., 0.36441187,\n",
              "          0.00659242, 0.32936657],\n",
              "         ...,\n",
              "         [0.18762994, 0.9900879 , 0.52118528, ..., 0.5209805 ,\n",
              "          0.49930569, 0.00552006],\n",
              "         [0.6148013 , 0.44402504, 0.52278929, ..., 0.47470063,\n",
              "          0.39686823, 0.34625821],\n",
              "         [0.46550869, 0.45326176, 0.01819367, ..., 0.9467779 ,\n",
              "          0.0189762 , 0.85209154]],\n",
              "\n",
              "        [[0.8178858 , 0.9563898 , 0.10286744, ..., 0.39961271,\n",
              "          0.72304863, 0.56797844],\n",
              "         [0.90183239, 0.57924023, 0.08274438, ..., 0.37146892,\n",
              "          0.9981454 , 0.92479319],\n",
              "         [0.03312019, 0.57457994, 0.56365383, ..., 0.04282281,\n",
              "          0.25231349, 0.86251265],\n",
              "         ...,\n",
              "         [0.76308897, 0.96204499, 0.07570715, ..., 0.29008099,\n",
              "          0.10792367, 0.30278611],\n",
              "         [0.76788971, 0.97685003, 0.19132945, ..., 0.35556602,\n",
              "          0.18742906, 0.59966725],\n",
              "         [0.83268592, 0.12316446, 0.65952704, ..., 0.22995324,\n",
              "          0.18183069, 0.99671493]]]])"
            ]
          },
          "metadata": {
            "tags": []
          },
          "execution_count": 37
        }
      ]
    },
    {
      "cell_type": "code",
      "metadata": {
        "id": "cAZoD3BCX3Ug"
      },
      "source": [
        ""
      ],
      "execution_count": null,
      "outputs": []
    },
    {
      "cell_type": "code",
      "metadata": {
        "id": "EQ6vhfCPaqFu",
        "outputId": "607e7b68-ae93-4f6f-bc51-12ca9273a0a4",
        "colab": {
          "base_uri": "https://localhost:8080/",
          "height": 421
        }
      },
      "source": [
        "%%html\r\n",
        "<svg xmlns=\"https://www.w3.org/2000/svg\" viewBox=\"0 0 600 400\" width=\"400\" height=\"400\">\r\n",
        "   <rect x=\"10\" y=\"00\" width=\"300\" height=\"100\" rx=\"0\" style=\"fill:orange; stroke:black; fill-opacity:1.0\" />\r\n",
        "   <rect x=\"10\" y=\"100\" width=\"300\" height=\"100\" rx=\"0\" style=\"fill:white; stroke:black; fill-opacity:1.0;\" />\r\n",
        "   <rect x=\"10\" y=\"200\" width=\"300\" height=\"100\" rx=\"0\" style=\"fill:green; stroke:black; fill-opacity:1.0;\" />\r\n",
        "</svg>"
      ],
      "execution_count": 45,
      "outputs": [
        {
          "output_type": "display_data",
          "data": {
            "text/html": [
              "<svg xmlns=\"https://www.w3.org/2000/svg\" viewBox=\"0 0 600 400\" width=\"400\" height=\"400\">\n",
              "   <rect x=\"10\" y=\"00\" width=\"300\" height=\"100\" rx=\"0\" style=\"fill:orange; stroke:black; fill-opacity:1.0\" />\n",
              "   <rect x=\"10\" y=\"100\" width=\"300\" height=\"100\" rx=\"0\" style=\"fill:white; stroke:black; fill-opacity:1.0;\" />\n",
              "   <rect x=\"10\" y=\"200\" width=\"300\" height=\"100\" rx=\"0\" style=\"fill:green; stroke:black; fill-opacity:1.0;\" />\n",
              "</svg>"
            ],
            "text/plain": [
              "<IPython.core.display.HTML object>"
            ]
          },
          "metadata": {
            "tags": []
          }
        }
      ]
    },
    {
      "cell_type": "code",
      "metadata": {
        "id": "_3QIn7wBdBTr"
      },
      "source": [
        "from IPython.display import display, Javascript\n",
        "from google.colab.output import eval_js\n",
        "from base64 import b64decode\n",
        "\n",
        "def take_photo(filename='photo.jpg', quality=0.8):\n",
        "  js = Javascript('''\n",
        "    async function takePhoto(quality) {\n",
        "      const div = document.createElement('div');\n",
        "      const capture = document.createElement('button');\n",
        "      capture.textContent = 'Capture';\n",
        "      div.appendChild(capture);\n",
        "\n",
        "      const video = document.createElement('video');\n",
        "      video.style.display = 'block';\n",
        "      const stream = await navigator.mediaDevices.getUserMedia({video: true});\n",
        "\n",
        "      document.body.appendChild(div);\n",
        "      div.appendChild(video);\n",
        "      video.srcObject = stream;\n",
        "      await video.play();\n",
        "\n",
        "      // Resize the output to fit the video element.\n",
        "      google.colab.output.setIframeHeight(document.documentElement.scrollHeight, true);\n",
        "\n",
        "      // Wait for Capture to be clicked.\n",
        "      await new Promise((resolve) => capture.onclick = resolve);\n",
        "\n",
        "      const canvas = document.createElement('canvas');\n",
        "      canvas.width = video.videoWidth;\n",
        "      canvas.height = video.videoHeight;\n",
        "      canvas.getContext('2d').drawImage(video, 0, 0);\n",
        "      stream.getVideoTracks()[0].stop();\n",
        "      div.remove();\n",
        "      return canvas.toDataURL('image/jpeg', quality);\n",
        "    }\n",
        "    ''')\n",
        "  display(js)\n",
        "  data = eval_js('takePhoto({})'.format(quality))\n",
        "  binary = b64decode(data.split(',')[1])\n",
        "  with open(filename, 'wb') as f:\n",
        "    f.write(binary)\n",
        "  return filename"
      ],
      "execution_count": null,
      "outputs": []
    },
    {
      "cell_type": "code",
      "metadata": {
        "id": "DaHBp77AdBTr"
      },
      "source": [
        "from IPython.display import Image\n",
        "try:\n",
        "  filename = take_photo()\n",
        "  print('Saved to {}'.format(filename))\n",
        "  \n",
        "  # Show the image which was just taken.\n",
        "  display(Image(filename))\n",
        "except Exception as err:\n",
        "  # Errors will be thrown if the user does not have a webcam or if they do not\n",
        "  # grant the page permission to access it.\n",
        "  print(str(err))"
      ],
      "execution_count": null,
      "outputs": []
    }
  ]
}